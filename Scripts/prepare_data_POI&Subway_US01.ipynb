{
 "cells": [
  {
   "cell_type": "code",
   "execution_count": 2,
   "metadata": {},
   "outputs": [],
   "source": [
    "import pandas as pd\n",
    "import geopandas as gpd\n",
    "from shapely.geometry import Point, Polygon\n",
    "from shapely.wkt import loads\n",
    "import matplotlib as plt\n",
    "from IPython.display import clear_output\n",
    "from shapely.ops import nearest_points\n",
    "from math import *\n",
    "import time"
   ]
  },
  {
   "cell_type": "code",
   "execution_count": 2,
   "metadata": {},
   "outputs": [
    {
     "data": {
      "text/html": [
       "<div>\n",
       "<style scoped>\n",
       "    .dataframe tbody tr th:only-of-type {\n",
       "        vertical-align: middle;\n",
       "    }\n",
       "\n",
       "    .dataframe tbody tr th {\n",
       "        vertical-align: top;\n",
       "    }\n",
       "\n",
       "    .dataframe thead th {\n",
       "        text-align: right;\n",
       "    }\n",
       "</style>\n",
       "<table border=\"1\" class=\"dataframe\">\n",
       "  <thead>\n",
       "    <tr style=\"text-align: right;\">\n",
       "      <th></th>\n",
       "      <th>Unnamed: 0</th>\n",
       "      <th>Unnamed: 1</th>\n",
       "      <th>clean</th>\n",
       "      <th>smell</th>\n",
       "      <th>noise</th>\n",
       "      <th>town</th>\n",
       "      <th>district</th>\n",
       "      <th>longitude</th>\n",
       "      <th>latitude</th>\n",
       "      <th>hapiness</th>\n",
       "      <th>geometry</th>\n",
       "      <th>transformed_longitude</th>\n",
       "      <th>transformed_latitude</th>\n",
       "    </tr>\n",
       "  </thead>\n",
       "  <tbody>\n",
       "    <tr>\n",
       "      <th>0</th>\n",
       "      <td>1</td>\n",
       "      <td>万寿社区居委会</td>\n",
       "      <td>3.0</td>\n",
       "      <td>1.0</td>\n",
       "      <td>1.0</td>\n",
       "      <td>盈浦街道</td>\n",
       "      <td>青浦区</td>\n",
       "      <td>121.104287</td>\n",
       "      <td>31.155882</td>\n",
       "      <td>1.0</td>\n",
       "      <td>POINT (-2822207.586532274 4677635.626522204)</td>\n",
       "      <td>-2.822208e+06</td>\n",
       "      <td>4.677636e+06</td>\n",
       "    </tr>\n",
       "    <tr>\n",
       "      <th>1</th>\n",
       "      <td>2</td>\n",
       "      <td>万泰花园第一居委会</td>\n",
       "      <td>3.0</td>\n",
       "      <td>0.0</td>\n",
       "      <td>1.0</td>\n",
       "      <td>七宝镇</td>\n",
       "      <td>闵行区</td>\n",
       "      <td>121.351529</td>\n",
       "      <td>31.144327</td>\n",
       "      <td>2.0</td>\n",
       "      <td>POINT (-2842710.938446562 4665979.72602233)</td>\n",
       "      <td>-2.842711e+06</td>\n",
       "      <td>4.665980e+06</td>\n",
       "    </tr>\n",
       "    <tr>\n",
       "      <th>2</th>\n",
       "      <td>3</td>\n",
       "      <td>万科阳光苑居委会</td>\n",
       "      <td>2.0</td>\n",
       "      <td>1.0</td>\n",
       "      <td>1.0</td>\n",
       "      <td>吴泾镇</td>\n",
       "      <td>闵行区</td>\n",
       "      <td>121.468520</td>\n",
       "      <td>31.042285</td>\n",
       "      <td>0.0</td>\n",
       "      <td>POINT (-2855282.42475198 4665148.863744967)</td>\n",
       "      <td>-2.855282e+06</td>\n",
       "      <td>4.665149e+06</td>\n",
       "    </tr>\n",
       "    <tr>\n",
       "      <th>3</th>\n",
       "      <td>4</td>\n",
       "      <td>万豪居委会</td>\n",
       "      <td>3.0</td>\n",
       "      <td>1.0</td>\n",
       "      <td>1.0</td>\n",
       "      <td>长征镇</td>\n",
       "      <td>普陀区</td>\n",
       "      <td>121.367237</td>\n",
       "      <td>31.240725</td>\n",
       "      <td>1.0</td>\n",
       "      <td>POINT (-2841108.748930958 4660473.749148724)</td>\n",
       "      <td>-2.841109e+06</td>\n",
       "      <td>4.660474e+06</td>\n",
       "    </tr>\n",
       "    <tr>\n",
       "      <th>4</th>\n",
       "      <td>6</td>\n",
       "      <td>万馨居委会</td>\n",
       "      <td>3.0</td>\n",
       "      <td>1.0</td>\n",
       "      <td>1.0</td>\n",
       "      <td>川沙新镇</td>\n",
       "      <td>浦东新区</td>\n",
       "      <td>121.668506</td>\n",
       "      <td>31.195306</td>\n",
       "      <td>1.0</td>\n",
       "      <td>POINT (-2866944.966017413 4647691.899672414)</td>\n",
       "      <td>-2.866945e+06</td>\n",
       "      <td>4.647692e+06</td>\n",
       "    </tr>\n",
       "  </tbody>\n",
       "</table>\n",
       "</div>"
      ],
      "text/plain": [
       "   Unnamed: 0 Unnamed: 1  clean  smell  noise  town district   longitude  \\\n",
       "0           1    万寿社区居委会    3.0    1.0    1.0  盈浦街道      青浦区  121.104287   \n",
       "1           2  万泰花园第一居委会    3.0    0.0    1.0   七宝镇      闵行区  121.351529   \n",
       "2           3   万科阳光苑居委会    2.0    1.0    1.0   吴泾镇      闵行区  121.468520   \n",
       "3           4      万豪居委会    3.0    1.0    1.0   长征镇      普陀区  121.367237   \n",
       "4           6      万馨居委会    3.0    1.0    1.0  川沙新镇     浦东新区  121.668506   \n",
       "\n",
       "    latitude  hapiness                                      geometry  \\\n",
       "0  31.155882       1.0  POINT (-2822207.586532274 4677635.626522204)   \n",
       "1  31.144327       2.0   POINT (-2842710.938446562 4665979.72602233)   \n",
       "2  31.042285       0.0   POINT (-2855282.42475198 4665148.863744967)   \n",
       "3  31.240725       1.0  POINT (-2841108.748930958 4660473.749148724)   \n",
       "4  31.195306       1.0  POINT (-2866944.966017413 4647691.899672414)   \n",
       "\n",
       "   transformed_longitude  transformed_latitude  \n",
       "0          -2.822208e+06          4.677636e+06  \n",
       "1          -2.842711e+06          4.665980e+06  \n",
       "2          -2.855282e+06          4.665149e+06  \n",
       "3          -2.841109e+06          4.660474e+06  \n",
       "4          -2.866945e+06          4.647692e+06  "
      ]
     },
     "execution_count": 2,
     "metadata": {},
     "output_type": "execute_result"
    }
   ],
   "source": [
    "df_criterias = pd.read_pickle('C:/Users/jeane/Documents/Travail/UTSEUS/Urban Data Hackathon/pickles/meters/communities-GDC2000-meters.pk')\n",
    "df_criterias = gpd.GeoDataFrame(df_criterias, geometry = [Point(float(x),float(y)) for x,y in zip(df_criterias.transformed_longitude, df_criterias.transformed_latitude)])\n",
    "dist_varation = {50, 100, 200, 400}\n",
    "df_criterias.head()"
   ]
  },
  {
   "cell_type": "markdown",
   "metadata": {},
   "source": [
    "RESTAURANT"
   ]
  },
  {
   "cell_type": "code",
   "execution_count": 3,
   "metadata": {},
   "outputs": [
    {
     "name": "stdout",
     "output_type": "stream",
     "text": [
      "1432 / 1432\n",
      "Wall time: 20min 15s\n"
     ]
    }
   ],
   "source": [
    "%%time\n",
    "global i\n",
    "i = 0\n",
    "\n",
    "df = pd.read_pickle('C:/Users/jeane/Documents/Travail/UTSEUS/Urban Data Hackathon/pickles/meters/POI_restaurant_meters.pk')\n",
    "df = gpd.GeoDataFrame(df, geometry = [Point(float(x),float(y)) for x,y in zip(df.transformed_longitude, df.transformed_latitude)])\n",
    "\n",
    "subcat_diff = []\n",
    "df.apply(lambda x : subcat_diff.append(x[\"subcategory\"]), axis = 1)\n",
    "subcat_diff = list(set(subcat_diff))\n",
    "\n",
    "for dist in dist_varation :\n",
    "    tab_nb_subCat = []\n",
    "    tab_df_subCat = [] \n",
    "    for element in subcat_diff:\n",
    "        df_criterias[element + str(dist)] = pd.Series([0 for x in range(len(df_criterias.index))])\n",
    "        tab_df_subCat.append(df[df.subcategory == element])\n",
    "        tab_nb_subCat.append([])\n",
    "\n",
    "    for j, hp in df_criterias.iterrows():\n",
    "        k = 0\n",
    "        for sub in tab_df_subCat:\n",
    "            gdf_f = sub[sub.geometry.within(hp.geometry.buffer(dist))]\n",
    "            tab_nb_subCat[k].append(len(gdf_f)) \n",
    "            k += 1\n",
    "        i += 1\n",
    "        clear_output(wait = True)\n",
    "        print(i, \"/\", len(df_criterias)*len(dist_varation))\n",
    "\n",
    "    j = 0\n",
    "    for element in subcat_diff:\n",
    "        df_criterias[element + str(dist)] = tab_nb_subCat[j]\n",
    "        j += 1"
   ]
  },
  {
   "cell_type": "code",
   "execution_count": 4,
   "metadata": {},
   "outputs": [],
   "source": [
    "df_criterias.to_pickle('C:/Users/jeane/Documents/Travail/UTSEUS/Urban Data Hackathon/pickles/meters/communities-criterias_1-meters.pk')"
   ]
  },
  {
   "cell_type": "markdown",
   "metadata": {},
   "source": [
    "SHOPPING"
   ]
  },
  {
   "cell_type": "code",
   "execution_count": 4,
   "metadata": {},
   "outputs": [
    {
     "name": "stdout",
     "output_type": "stream",
     "text": [
      "1432 / 1432\n",
      "Wall time: 32min 30s\n"
     ]
    }
   ],
   "source": [
    "%%time\n",
    "global i\n",
    "i = 0\n",
    "\n",
    "df = pd.read_pickle('C:/Users/jeane/Documents/Travail/UTSEUS/Urban Data Hackathon/pickles/meters/POI_shopping_meters.pk')\n",
    "df = gpd.GeoDataFrame(df, geometry = [Point(float(x),float(y)) for x,y in zip(df.transformed_longitude, df.transformed_latitude)])\n",
    "\n",
    "subcat_diff = []\n",
    "df.apply(lambda x : subcat_diff.append(x[\"subcategory\"]), axis = 1)\n",
    "subcat_diff = list(set(subcat_diff))\n",
    "\n",
    "for dist in dist_varation :\n",
    "    tab_nb_subCat = []\n",
    "    tab_df_subCat = [] \n",
    "    for element in subcat_diff:\n",
    "        df_criterias[element + str(dist)] = pd.Series([0 for x in range(len(df_criterias.index))])\n",
    "        tab_df_subCat.append(df[df.subcategory == element])\n",
    "        tab_nb_subCat.append([])\n",
    "\n",
    "    for j, hp in df_criterias.iterrows():\n",
    "        k = 0\n",
    "        for sub in tab_df_subCat:\n",
    "            gdf_f = sub[sub.geometry.within(hp.geometry.buffer(dist))]\n",
    "            tab_nb_subCat[k].append(len(gdf_f)) \n",
    "            k += 1\n",
    "        i += 1\n",
    "        clear_output(wait = True)\n",
    "        print(i, \"/\", len(df_criterias)*len(dist_varation))\n",
    "\n",
    "    j = 0\n",
    "    for element in subcat_diff:\n",
    "        df_criterias[element + str(dist)] = tab_nb_subCat[j]\n",
    "        j += 1"
   ]
  },
  {
   "cell_type": "code",
   "execution_count": 28,
   "metadata": {},
   "outputs": [],
   "source": [
    "df_criterias.to_pickle('C:/Users/jeane/Documents/Travail/UTSEUS/Urban Data Hackathon/pickles/meters/communities-criterias_2-meters.pk')"
   ]
  },
  {
   "cell_type": "markdown",
   "metadata": {},
   "source": [
    "TRANSPORTATION"
   ]
  },
  {
   "cell_type": "code",
   "execution_count": 29,
   "metadata": {},
   "outputs": [
    {
     "name": "stdout",
     "output_type": "stream",
     "text": [
      "1432 / 1432\n",
      "Wall time: 30min 22s\n"
     ]
    }
   ],
   "source": [
    "%%time\n",
    "global i\n",
    "i = 0\n",
    "\n",
    "df = pd.read_pickle('C:/Users/jeane/Documents/Travail/UTSEUS/Urban Data Hackathon/pickles/meters/POI_transportation_meters.pk')\n",
    "df = gpd.GeoDataFrame(df, geometry = [Point(float(x),float(y)) for x,y in zip(df.transformed_longitude, df.transformed_latitude)])\n",
    "\n",
    "subcat_diff = []\n",
    "df.apply(lambda x : subcat_diff.append(x[\"subcategory\"]), axis = 1)\n",
    "subcat_diff = list(set(subcat_diff))\n",
    "\n",
    "for dist in dist_varation :\n",
    "    tab_nb_subCat = []\n",
    "    tab_df_subCat = [] \n",
    "    for element in subcat_diff:\n",
    "        df_criterias[element + str(dist)] = pd.Series([0 for x in range(len(df_criterias.index))])\n",
    "        tab_df_subCat.append(df[df.subcategory == element])\n",
    "        tab_nb_subCat.append([])\n",
    "\n",
    "    for j, hp in df_criterias.iterrows():\n",
    "        k = 0\n",
    "        for sub in tab_df_subCat:\n",
    "            gdf_f = sub[sub.geometry.within(hp.geometry.buffer(dist))]\n",
    "            tab_nb_subCat[k].append(len(gdf_f)) \n",
    "            k += 1\n",
    "        i += 1\n",
    "        clear_output(wait = True)\n",
    "        print(i, \"/\", len(df_criterias)*len(dist_varation))\n",
    "\n",
    "    j = 0\n",
    "    for element in subcat_diff:\n",
    "        df_criterias[element + str(dist)] = tab_nb_subCat[j]\n",
    "        j += 1"
   ]
  },
  {
   "cell_type": "code",
   "execution_count": 30,
   "metadata": {},
   "outputs": [],
   "source": [
    "df_criterias.to_pickle('C:/Users/jeane/Documents/Travail/UTSEUS/Urban Data Hackathon/pickles/meters/communities-criterias_3-meters.pk')"
   ]
  },
  {
   "cell_type": "markdown",
   "metadata": {},
   "source": [
    "SPORT LEISURE"
   ]
  },
  {
   "cell_type": "code",
   "execution_count": 31,
   "metadata": {},
   "outputs": [
    {
     "name": "stdout",
     "output_type": "stream",
     "text": [
      "1432 / 1432\n",
      "Wall time: 8min 20s\n"
     ]
    }
   ],
   "source": [
    "%%time\n",
    "global i\n",
    "i = 0\n",
    "\n",
    "df = pd.read_pickle('C:/Users/jeane/Documents/Travail/UTSEUS/Urban Data Hackathon/pickles/meters/POI_sport_leisure_meters.pk')\n",
    "df = gpd.GeoDataFrame(df, geometry = [Point(float(x),float(y)) for x,y in zip(df.transformed_longitude, df.transformed_latitude)])\n",
    "\n",
    "subcat_diff = []\n",
    "df.apply(lambda x : subcat_diff.append(x[\"subcategory\"]), axis = 1)\n",
    "subcat_diff = list(set(subcat_diff))\n",
    "\n",
    "for dist in dist_varation :\n",
    "    tab_nb_subCat = []\n",
    "    tab_df_subCat = [] \n",
    "    for element in subcat_diff:\n",
    "        df_criterias[element + str(dist)] = pd.Series([0 for x in range(len(df_criterias.index))])\n",
    "        tab_df_subCat.append(df[df.subcategory == element])\n",
    "        tab_nb_subCat.append([])\n",
    "\n",
    "    for j, hp in df_criterias.iterrows():\n",
    "        k = 0\n",
    "        for sub in tab_df_subCat:\n",
    "            gdf_f = sub[sub.geometry.within(hp.geometry.buffer(dist))]\n",
    "            tab_nb_subCat[k].append(len(gdf_f)) \n",
    "            k += 1\n",
    "        i += 1\n",
    "        clear_output(wait = True)\n",
    "        print(i, \"/\", len(df_criterias)*len(dist_varation))\n",
    "\n",
    "    j = 0\n",
    "    for element in subcat_diff:\n",
    "        df_criterias[element + str(dist)] = tab_nb_subCat[j]\n",
    "        j += 1"
   ]
  },
  {
   "cell_type": "code",
   "execution_count": 32,
   "metadata": {},
   "outputs": [],
   "source": [
    "df_criterias.to_pickle('C:/Users/jeane/Documents/Travail/UTSEUS/Urban Data Hackathon/pickles/meters/communities-criterias_4-meters.pk')"
   ]
  },
  {
   "cell_type": "markdown",
   "metadata": {},
   "source": [
    "SCENIC SPOT"
   ]
  },
  {
   "cell_type": "code",
   "execution_count": 5,
   "metadata": {},
   "outputs": [
    {
     "name": "stdout",
     "output_type": "stream",
     "text": [
      "1432 / 1432\n",
      "Wall time: 37.1 s\n"
     ]
    }
   ],
   "source": [
    "%%time\n",
    "global i\n",
    "i = 0\n",
    "\n",
    "df = pd.read_pickle('C:/Users/jeane/Documents/Travail/UTSEUS/Urban Data Hackathon/pickles/meters/POI_scenic_spot_meters.pk')\n",
    "df = gpd.GeoDataFrame(df, geometry = [Point(float(x),float(y)) for x,y in zip(df.transformed_longitude, df.transformed_latitude)])\n",
    "\n",
    "subcat_diff = []\n",
    "df.apply(lambda x : subcat_diff.append(x[\"subcategory\"]), axis = 1)\n",
    "subcat_diff = list(set(subcat_diff))\n",
    "\n",
    "for dist in dist_varation :\n",
    "    tab_nb_subCat = []\n",
    "    tab_df_subCat = [] \n",
    "    for element in subcat_diff:\n",
    "        df_criterias[element + str(dist)] = pd.Series([0 for x in range(len(df_criterias.index))])\n",
    "        tab_df_subCat.append(df[df.subcategory == element])\n",
    "        tab_nb_subCat.append([])\n",
    "\n",
    "    for j, hp in df_criterias.iterrows():\n",
    "        k = 0\n",
    "        for sub in tab_df_subCat:\n",
    "            gdf_f = sub[sub.geometry.within(hp.geometry.buffer(dist))]\n",
    "            tab_nb_subCat[k].append(len(gdf_f)) \n",
    "            k += 1\n",
    "        i += 1\n",
    "        clear_output(wait = True)\n",
    "        print(i, \"/\", len(df_criterias)*len(dist_varation))\n",
    "\n",
    "    j = 0\n",
    "    for element in subcat_diff:\n",
    "        df_criterias[element + str(dist)] = tab_nb_subCat[j]\n",
    "        j += 1"
   ]
  },
  {
   "cell_type": "code",
   "execution_count": 6,
   "metadata": {},
   "outputs": [],
   "source": [
    "df_criterias.to_pickle('C:/Users/jeane/Documents/Travail/UTSEUS/Urban Data Hackathon/pickles/meters/communities-criterias_5-meters.pk')"
   ]
  },
  {
   "cell_type": "markdown",
   "metadata": {},
   "source": [
    "SUBWAY"
   ]
  },
  {
   "cell_type": "code",
   "execution_count": 7,
   "metadata": {},
   "outputs": [
    {
     "name": "stdout",
     "output_type": "stream",
     "text": [
      "1432 / 1432\n",
      "Wall time: 8.24 s\n"
     ]
    }
   ],
   "source": [
    "%%time\n",
    "global i\n",
    "i = 0\n",
    "\n",
    "df = pd.read_pickle('C:/Users/jeane/Documents/Travail/UTSEUS/Urban Data Hackathon/pickles/meters/subway_meters.pk')\n",
    "df = gpd.GeoDataFrame(df, geometry = [Point(float(x),float(y)) for x,y in zip(df.transformed_longitude, df.transformed_latitude)])\n",
    "\n",
    "\n",
    "for dist in dist_varation :\n",
    "    df_criterias[\"subway\" + str(dist)] = pd.Series([0 for x in range(len(df_criterias.index))])\n",
    "    nbSubway = []\n",
    "\n",
    "    for j, poi in df_criterias.iterrows():\n",
    "\n",
    "        gdf_f = df[df.geometry.within(poi.geometry.buffer(400))]\n",
    "        nbSubway.append(len(gdf_f))\n",
    "\n",
    "        i += 1\n",
    "        clear_output(wait = True)\n",
    "        print(i, \"/\", len(df_criterias)*len(dist_varation))\n",
    "\n",
    "    df_criterias[\"subway\" + str(dist)] = nbSubway"
   ]
  },
  {
   "cell_type": "code",
   "execution_count": 8,
   "metadata": {},
   "outputs": [],
   "source": [
    "df_criterias.to_pickle('C:/Users/jeane/Documents/Travail/UTSEUS/Urban Data Hackathon/pickles/meters/communities-criterias_6-meters.pk')"
   ]
  },
  {
   "cell_type": "code",
   "execution_count": 1,
   "metadata": {},
   "outputs": [],
   "source": [
    "import pandas as pd\n",
    "import geopandas as gpd\n",
    "from shapely.geometry import Point, Polygon\n",
    "from shapely.wkt import loads\n",
    "import matplotlib as plt\n",
    "from IPython.display import clear_output\n",
    "from shapely.ops import nearest_points\n",
    "from math import *\n",
    "import time\n",
    "df_criterias = pd.read_pickle('C:/Users/jeane/Documents/Travail/UTSEUS/Urban Data Hackathon/pickles/meters/communities-criterias_6-meters.pk')\n",
    "df_criterias = gpd.GeoDataFrame(df_criterias, geometry = [Point(float(x),float(y)) for x,y in zip(df_criterias.transformed_longitude, df_criterias.transformed_latitude)])\n",
    "dist_varation = {50, 100, 200, 400}\n",
    "df = pd.read_pickle('C:/Users/jeane/Documents/Travail/UTSEUS/Urban Data Hackathon/pickles/meters/subway_meters.pk')\n",
    "df = gpd.GeoDataFrame(df, geometry = [Point(float(x),float(y)) for x,y in zip(df.transformed_longitude, df.transformed_latitude)])"
   ]
  },
  {
   "cell_type": "markdown",
   "metadata": {},
   "source": [
    "NEAREST SUBWAY"
   ]
  },
  {
   "cell_type": "code",
   "execution_count": 3,
   "metadata": {},
   "outputs": [
    {
     "name": "stdout",
     "output_type": "stream",
     "text": [
      "102746 / 102746\n",
      "Wall time: 3min 46s\n"
     ]
    }
   ],
   "source": [
    "%%time\n",
    "global i\n",
    "i = 0\n",
    "\n",
    "df_criterias[\"nearerSubway\"] = pd.Series([0 for x in range(len(df_criterias.index))])\n",
    "nearerSubDist = []\n",
    "\n",
    "for j, hp in df_criterias.iterrows():\n",
    "    nearerSubway = 10000000\n",
    "    for j, sub in df.iterrows():\n",
    "        dist = sqrt((hp.transformed_longitude - sub.transformed_longitude)**2 + (hp.transformed_latitude - sub.transformed_latitude)**2)\n",
    "        if nearerSubway > dist:\n",
    "            nearerSubway = dist\n",
    "\n",
    "        i += 1\n",
    "        clear_output(wait = True)\n",
    "        print(i, \"/\", len(df_criterias)*len(df))\n",
    "    nearerSubDist.append(nearerSubway)\n",
    "\n",
    "df_criterias[\"nearerSubway\"] = nearerSubDist"
   ]
  },
  {
   "cell_type": "code",
   "execution_count": 4,
   "metadata": {},
   "outputs": [],
   "source": [
    "df_criterias.to_pickle('C:/Users/jeane/Documents/Travail/UTSEUS/Urban Data Hackathon/pickles/meters/communities-criterias_7-meters.pk')"
   ]
  },
  {
   "cell_type": "code",
   "execution_count": 5,
   "metadata": {},
   "outputs": [],
   "source": [
    "df_criterias.to_csv('C:/Users/jeane/Documents/Travail/UTSEUS/Urban Data Hackathon/pickles/meters/communities-criterias_7-meters.csv')"
   ]
  },
  {
   "cell_type": "code",
   "execution_count": null,
   "metadata": {},
   "outputs": [],
   "source": []
  },
  {
   "cell_type": "code",
   "execution_count": null,
   "metadata": {},
   "outputs": [],
   "source": []
  },
  {
   "cell_type": "code",
   "execution_count": 57,
   "metadata": {},
   "outputs": [
    {
     "data": {
      "text/html": [
       "<div>\n",
       "<style scoped>\n",
       "    .dataframe tbody tr th:only-of-type {\n",
       "        vertical-align: middle;\n",
       "    }\n",
       "\n",
       "    .dataframe tbody tr th {\n",
       "        vertical-align: top;\n",
       "    }\n",
       "\n",
       "    .dataframe thead th {\n",
       "        text-align: right;\n",
       "    }\n",
       "</style>\n",
       "<table border=\"1\" class=\"dataframe\">\n",
       "  <thead>\n",
       "    <tr style=\"text-align: right;\">\n",
       "      <th></th>\n",
       "      <th>Unnamed: 0</th>\n",
       "      <th>Unnamed: 1</th>\n",
       "      <th>clean</th>\n",
       "      <th>smell</th>\n",
       "      <th>noise</th>\n",
       "      <th>town</th>\n",
       "      <th>district</th>\n",
       "      <th>longitude</th>\n",
       "      <th>latitude</th>\n",
       "      <th>hapiness</th>\n",
       "      <th>...</th>\n",
       "      <th>Retail store of sporting goods</th>\n",
       "      <th>Market</th>\n",
       "      <th>Exclusive shop</th>\n",
       "      <th>Food-beverage and tobacco products retail stores</th>\n",
       "      <th>Vehicle Sales Shop</th>\n",
       "      <th>Flower, Bird, Insect and Fish Market</th>\n",
       "      <th>Commodity retail stores</th>\n",
       "      <th>Integrated market</th>\n",
       "      <th>Clothing, shoes and leather retail store</th>\n",
       "      <th>Supermarket Convenience Store</th>\n",
       "    </tr>\n",
       "  </thead>\n",
       "  <tbody>\n",
       "    <tr>\n",
       "      <th>0</th>\n",
       "      <td>1</td>\n",
       "      <td>万寿社区居委会</td>\n",
       "      <td>3.0</td>\n",
       "      <td>1.0</td>\n",
       "      <td>1.0</td>\n",
       "      <td>盈浦街道</td>\n",
       "      <td>青浦区</td>\n",
       "      <td>121.104287</td>\n",
       "      <td>31.155882</td>\n",
       "      <td>1.0</td>\n",
       "      <td>...</td>\n",
       "      <td>0</td>\n",
       "      <td>0</td>\n",
       "      <td>0</td>\n",
       "      <td>0</td>\n",
       "      <td>0</td>\n",
       "      <td>0</td>\n",
       "      <td>0</td>\n",
       "      <td>0</td>\n",
       "      <td>0</td>\n",
       "      <td>0</td>\n",
       "    </tr>\n",
       "    <tr>\n",
       "      <th>1</th>\n",
       "      <td>2</td>\n",
       "      <td>万泰花园第一居委会</td>\n",
       "      <td>3.0</td>\n",
       "      <td>0.0</td>\n",
       "      <td>1.0</td>\n",
       "      <td>七宝镇</td>\n",
       "      <td>闵行区</td>\n",
       "      <td>121.351529</td>\n",
       "      <td>31.144327</td>\n",
       "      <td>2.0</td>\n",
       "      <td>...</td>\n",
       "      <td>0</td>\n",
       "      <td>0</td>\n",
       "      <td>0</td>\n",
       "      <td>0</td>\n",
       "      <td>0</td>\n",
       "      <td>0</td>\n",
       "      <td>0</td>\n",
       "      <td>0</td>\n",
       "      <td>0</td>\n",
       "      <td>0</td>\n",
       "    </tr>\n",
       "    <tr>\n",
       "      <th>2</th>\n",
       "      <td>3</td>\n",
       "      <td>万科阳光苑居委会</td>\n",
       "      <td>2.0</td>\n",
       "      <td>1.0</td>\n",
       "      <td>1.0</td>\n",
       "      <td>吴泾镇</td>\n",
       "      <td>闵行区</td>\n",
       "      <td>121.468520</td>\n",
       "      <td>31.042285</td>\n",
       "      <td>0.0</td>\n",
       "      <td>...</td>\n",
       "      <td>0</td>\n",
       "      <td>0</td>\n",
       "      <td>0</td>\n",
       "      <td>0</td>\n",
       "      <td>0</td>\n",
       "      <td>0</td>\n",
       "      <td>0</td>\n",
       "      <td>0</td>\n",
       "      <td>0</td>\n",
       "      <td>0</td>\n",
       "    </tr>\n",
       "    <tr>\n",
       "      <th>3</th>\n",
       "      <td>4</td>\n",
       "      <td>万豪居委会</td>\n",
       "      <td>3.0</td>\n",
       "      <td>1.0</td>\n",
       "      <td>1.0</td>\n",
       "      <td>长征镇</td>\n",
       "      <td>普陀区</td>\n",
       "      <td>121.367237</td>\n",
       "      <td>31.240725</td>\n",
       "      <td>1.0</td>\n",
       "      <td>...</td>\n",
       "      <td>0</td>\n",
       "      <td>0</td>\n",
       "      <td>0</td>\n",
       "      <td>0</td>\n",
       "      <td>0</td>\n",
       "      <td>0</td>\n",
       "      <td>0</td>\n",
       "      <td>0</td>\n",
       "      <td>0</td>\n",
       "      <td>0</td>\n",
       "    </tr>\n",
       "    <tr>\n",
       "      <th>4</th>\n",
       "      <td>6</td>\n",
       "      <td>万馨居委会</td>\n",
       "      <td>3.0</td>\n",
       "      <td>1.0</td>\n",
       "      <td>1.0</td>\n",
       "      <td>川沙新镇</td>\n",
       "      <td>浦东新区</td>\n",
       "      <td>121.668506</td>\n",
       "      <td>31.195306</td>\n",
       "      <td>1.0</td>\n",
       "      <td>...</td>\n",
       "      <td>0</td>\n",
       "      <td>0</td>\n",
       "      <td>0</td>\n",
       "      <td>0</td>\n",
       "      <td>0</td>\n",
       "      <td>0</td>\n",
       "      <td>0</td>\n",
       "      <td>0</td>\n",
       "      <td>0</td>\n",
       "      <td>0</td>\n",
       "    </tr>\n",
       "  </tbody>\n",
       "</table>\n",
       "<p>5 rows × 33 columns</p>\n",
       "</div>"
      ],
      "text/plain": [
       "   Unnamed: 0 Unnamed: 1  clean  smell  noise  town district   longitude  \\\n",
       "0           1    万寿社区居委会    3.0    1.0    1.0  盈浦街道      青浦区  121.104287   \n",
       "1           2  万泰花园第一居委会    3.0    0.0    1.0   七宝镇      闵行区  121.351529   \n",
       "2           3   万科阳光苑居委会    2.0    1.0    1.0   吴泾镇      闵行区  121.468520   \n",
       "3           4      万豪居委会    3.0    1.0    1.0   长征镇      普陀区  121.367237   \n",
       "4           6      万馨居委会    3.0    1.0    1.0  川沙新镇     浦东新区  121.668506   \n",
       "\n",
       "    latitude  hapiness  ... Retail store of sporting goods  Market  \\\n",
       "0  31.155882       1.0  ...                              0       0   \n",
       "1  31.144327       2.0  ...                              0       0   \n",
       "2  31.042285       0.0  ...                              0       0   \n",
       "3  31.240725       1.0  ...                              0       0   \n",
       "4  31.195306       1.0  ...                              0       0   \n",
       "\n",
       "   Exclusive shop  Food-beverage and tobacco products retail stores  \\\n",
       "0               0                                                 0   \n",
       "1               0                                                 0   \n",
       "2               0                                                 0   \n",
       "3               0                                                 0   \n",
       "4               0                                                 0   \n",
       "\n",
       "   Vehicle Sales Shop  Flower, Bird, Insect and Fish Market  \\\n",
       "0                   0                                     0   \n",
       "1                   0                                     0   \n",
       "2                   0                                     0   \n",
       "3                   0                                     0   \n",
       "4                   0                                     0   \n",
       "\n",
       "   Commodity retail stores  Integrated market  \\\n",
       "0                        0                  0   \n",
       "1                        0                  0   \n",
       "2                        0                  0   \n",
       "3                        0                  0   \n",
       "4                        0                  0   \n",
       "\n",
       "   Clothing, shoes and leather retail store  Supermarket Convenience Store  \n",
       "0                                         0                              0  \n",
       "1                                         0                              0  \n",
       "2                                         0                              0  \n",
       "3                                         0                              0  \n",
       "4                                         0                              0  \n",
       "\n",
       "[5 rows x 33 columns]"
      ]
     },
     "execution_count": 57,
     "metadata": {},
     "output_type": "execute_result"
    }
   ],
   "source": [
    "subcat_diff_shopping = []\n",
    "df_shopping.apply(lambda x : subcat_diff_shopping.append(x[\"subcategory\"]), axis = 1)\n",
    "subcat_diff_shopping = list(set(subcat_diff_shopping))\n",
    "\n",
    "for element in subcat_diff_shopping:\n",
    "    df_criterias_safe[element] = pd.Series([0 for x in range(len(df_criterias_safe.index))])"
   ]
  },
  {
   "cell_type": "code",
   "execution_count": 62,
   "metadata": {},
   "outputs": [],
   "source": [
    "df_shop1 = df_shopping[df_shopping.subcategory == \"Clothing, shoes and leather retail store\"]\n",
    "df_shop2 = df_shopping[df_shopping.subcategory == \"Commodity retail stores\"]\n",
    "df_shop3 = df_shopping[df_shopping.subcategory == \"Integrated market\"]\n",
    "df_shop4 = df_shopping[df_shopping.subcategory == \"Exclusive shop\"]\n",
    "df_shop5 = df_shopping[df_shopping.subcategory == \"Clocks and jewelry retail store\"]\n",
    "df_shop6 = df_shopping[df_shopping.subcategory == \"Flower, Bird, Insect and Fish Market\"]\n",
    "df_shop7 = df_shopping[df_shopping.subcategory == \"Food-beverage and tobacco products retail stores\"]\n",
    "df_shop8 = df_shopping[df_shopping.subcategory == \"Vehicle Sales Shop\"]\n",
    "df_shop9 = df_shopping[df_shopping.subcategory == \"Retail store of sporting goods\"]\n",
    "df_shop10 = df_shopping[df_shopping.subcategory == \"Other shopping places\"]\n",
    "df_shop11 = df_shopping[df_shopping.subcategory == \"Market\"]\n",
    "df_shop12 = df_shopping[df_shopping.subcategory == \"Supermarket Convenience Store\"]\n",
    "df_shop13 = df_shopping[df_shopping.subcategory == \"Home Appliance Digital Retail Store\"]\n",
    "df_shop14 = df_shopping[df_shopping.subcategory == \"Characteristic Commercial Street\"]\n",
    "df_shop15 = df_shopping[df_shopping.subcategory == \"Home Building Materials Retail Shop\"]"
   ]
  },
  {
   "cell_type": "code",
   "execution_count": 64,
   "metadata": {},
   "outputs": [
    {
     "name": "stdout",
     "output_type": "stream",
     "text": [
      "358 / 358\n"
     ]
    }
   ],
   "source": [
    "nbClothing = []\n",
    "nbCommodity = []\n",
    "nbIntegrated = []\n",
    "nbExclusive = []\n",
    "nbClock = []\n",
    "nbFlower = []\n",
    "nbFood = []\n",
    "nbVehicle = []\n",
    "nbRetail = []\n",
    "nbOther = []\n",
    "nbMarket = []\n",
    "nbSupermarket = []\n",
    "nbHomeDigital = []\n",
    "nbCharacteristic = []\n",
    "nbHomeBuilding = []\n",
    "global i\n",
    "i = 0\n",
    "\n",
    "for j, poi in df_criterias_safe.iterrows():\n",
    "    \n",
    "    gdf_f = df_shop1[df_shop1.geometry.within(poi.geometry.buffer(400))]\n",
    "    nbClothing.append(len(gdf_f))\n",
    "    \n",
    "    gdf_f = df_shop2[df_shop2.geometry.within(poi.geometry.buffer(400))]\n",
    "    nbCommodity.append(len(gdf_f))\n",
    "    \n",
    "    gdf_f = df_shop3[df_shop3.geometry.within(poi.geometry.buffer(400))]\n",
    "    nbIntegrated.append(len(gdf_f))\n",
    "    \n",
    "    gdf_f = df_shop4[df_shop4.geometry.within(poi.geometry.buffer(400))]\n",
    "    nbExclusive.append(len(gdf_f))\n",
    "    \n",
    "    gdf_f = df_shop5[df_shop5.geometry.within(poi.geometry.buffer(400))]\n",
    "    nbClock.append(len(gdf_f))\n",
    "    \n",
    "    gdf_f = df_shop6[df_shop6.geometry.within(poi.geometry.buffer(400))]\n",
    "    nbFlower.append(len(gdf_f))\n",
    "    \n",
    "    gdf_f = df_shop7[df_shop7.geometry.within(poi.geometry.buffer(400))]\n",
    "    nbFood.append(len(gdf_f))\n",
    "    \n",
    "    gdf_f = df_shop8[df_shop8.geometry.within(poi.geometry.buffer(400))]\n",
    "    nbVehicle.append(len(gdf_f))\n",
    "    \n",
    "    gdf_f = df_shop9[df_shop9.geometry.within(poi.geometry.buffer(400))]\n",
    "    nbRetail.append(len(gdf_f))\n",
    "    \n",
    "    gdf_f = df_shop10[df_shop10.geometry.within(poi.geometry.buffer(400))]\n",
    "    nbOther.append(len(gdf_f))\n",
    "    \n",
    "    gdf_f = df_shop11[df_shop11.geometry.within(poi.geometry.buffer(400))]\n",
    "    nbMarket.append(len(gdf_f))\n",
    "    \n",
    "    gdf_f = df_shop12[df_shop12.geometry.within(poi.geometry.buffer(400))]\n",
    "    nbSupermarket.append(len(gdf_f))\n",
    "    \n",
    "    gdf_f = df_shop13[df_shop13.geometry.within(poi.geometry.buffer(400))]\n",
    "    nbHomeDigital.append(len(gdf_f))\n",
    "    \n",
    "    gdf_f = df_shop14[df_shop14.geometry.within(poi.geometry.buffer(400))]\n",
    "    nbCharacteristic.append(len(gdf_f))\n",
    "    \n",
    "    gdf_f = df_shop15[df_shop15.geometry.within(poi.geometry.buffer(400))]\n",
    "    nbHomeBuilding.append(len(gdf_f))\n",
    "\n",
    "    \n",
    "    \n",
    "    i += 1\n",
    "    clear_output(wait = True)\n",
    "    print(i, \"/\", len(df_criterias))\n",
    "    \n",
    "df_criterias_safe[\"Clothing, shoes and leather retail store\"] = nbClothing\n",
    "df_criterias_safe[\"Commodity retail stores\"] = nbCommodity\n",
    "df_criterias_safe[\"Integrated market\"] = nbIntegrated\n",
    "df_criterias_safe[\"Exclusive shop\"] = nbExclusive\n",
    "df_criterias_safe[\"Clocks and jewelry retail store\"] = nbClock\n",
    "df_criterias_safe[\"Flower, Bird, Insect and Fish Market\"] = nbFlower\n",
    "df_criterias_safe[\"Food-beverage and tobacco products retail stores\"] = nbFood\n",
    "df_criterias_safe[\"Vehicle Sales Shop\"] = nbVehicle\n",
    "df_criterias_safe[\"Retail store of sporting goods\"] = nbRetail\n",
    "df_criterias_safe[\"Other shopping places\"] = nbOther\n",
    "df_criterias_safe[\"Market\"] = nbMarket\n",
    "df_criterias_safe[\"Supermarket Convenience Store\"] = nbSupermarket\n",
    "df_criterias_safe[\"Home Appliance Digital Retail Store\"] = nbHomeDigital\n",
    "df_criterias_safe[\"Characteristic Commercial Street\"] = nbCharacteristic\n",
    "df_criterias_safe[\"Home Building Materials Retail Shop\"] = nbHomeBuilding"
   ]
  },
  {
   "cell_type": "code",
   "execution_count": 65,
   "metadata": {},
   "outputs": [],
   "source": [
    "df_criterias_safe.to_pickle('C:/Users/jeane/Documents/Travail/UTSEUS/Urban Data Hackathon/pickles/meters/communities-meters.pk')\n",
    "df_criterias_safe_2 = pd.read_pickle('C:/Users/jeane/Documents/Travail/UTSEUS/Urban Data Hackathon/pickles/meters/communities-meters.pk')"
   ]
  },
  {
   "cell_type": "code",
   "execution_count": 71,
   "metadata": {},
   "outputs": [],
   "source": [
    "subcat_diff_scenicSpot = []\n",
    "df_scenicSpot.apply(lambda x : subcat_diff_scenicSpot.append(x[\"subcategory\"]), axis = 1)\n",
    "subcat_diff_scenicSpot = list(set(subcat_diff_scenicSpot))\n",
    "\n",
    "for element in subcat_diff_scenicSpot:\n",
    "    df_criterias[element] = pd.Series([0 for x in range(len(df_criterias.index))])"
   ]
  },
  {
   "cell_type": "code",
   "execution_count": 72,
   "metadata": {},
   "outputs": [],
   "source": [
    "df_Park = df_scenicSpot[df_scenicSpot.subcategory == \"Park Plaza\"]\n",
    "df_Theme = df_scenicSpot[df_scenicSpot.subcategory == \"theme park\"]\n",
    "df_Landscape = df_scenicSpot[df_scenicSpot.subcategory == \"Natural Landscape-Historic Holy Land\"]\n",
    "df_Historic = df_scenicSpot[df_scenicSpot.subcategory == \"Places of historic figures and cultural heritage\"]"
   ]
  },
  {
   "cell_type": "code",
   "execution_count": 73,
   "metadata": {},
   "outputs": [
    {
     "name": "stdout",
     "output_type": "stream",
     "text": [
      "358 / 358\n"
     ]
    }
   ],
   "source": [
    "nbPark = []\n",
    "nbTheme = []\n",
    "nbLandscape = []\n",
    "nbHistoric = []\n",
    "global i\n",
    "i = 0\n",
    "\n",
    "for j, poi in df_criterias_safe_2.iterrows():\n",
    "    \n",
    "    gdf_f = df_Park[df_Park.geometry.within(poi.geometry.buffer(400))]\n",
    "    nbPark.append(len(gdf_f))\n",
    "    \n",
    "    gdf_f = df_Theme[df_Theme.geometry.within(poi.geometry.buffer(400))]\n",
    "    nbTheme.append(len(gdf_f))\n",
    "    \n",
    "    gdf_f = df_Landscape[df_Landscape.geometry.within(poi.geometry.buffer(400))]\n",
    "    nbLandscape.append(len(gdf_f))\n",
    "    \n",
    "    gdf_f = df_Historic[df_Historic.geometry.within(poi.geometry.buffer(400))]\n",
    "    nbHistoric.append(len(gdf_f))\n",
    "    \n",
    "    i += 1\n",
    "    clear_output(wait = True)\n",
    "    print(i, \"/\", len(df_criterias_safe_2))\n",
    "    \n",
    "df_criterias_safe_2[\"Park Plaza\"] = nbPark\n",
    "df_criterias_safe_2[\"theme park\"] = nbTheme\n",
    "df_criterias_safe_2[\"Natural Landscape-Historic Holy Land\"] = nbLandscape\n",
    "df_criterias_safe_2[\"Places of historic figures and cultural heritage\"] = nbHistoric"
   ]
  },
  {
   "cell_type": "code",
   "execution_count": 74,
   "metadata": {},
   "outputs": [],
   "source": [
    "df_criterias_safe_2.to_pickle('C:/Users/jeane/Documents/Travail/UTSEUS/Urban Data Hackathon/pickles/meters/communities-meters.pk')\n",
    "df_criterias_safe_3 = pd.read_pickle('C:/Users/jeane/Documents/Travail/UTSEUS/Urban Data Hackathon/pickles/meters/communities-meters.pk')"
   ]
  },
  {
   "cell_type": "code",
   "execution_count": 76,
   "metadata": {},
   "outputs": [],
   "source": [
    "subcat_diff_sportLeisure = []\n",
    "df_sportLeisure.apply(lambda x : subcat_diff_sportLeisure.append(x[\"subcategory\"]), axis = 1)\n",
    "subcat_diff_sportLeisure = list(set(subcat_diff_sportLeisure))\n",
    "\n",
    "for element in subcat_diff_sportLeisure:\n",
    "    df_criterias_safe_3[element] = pd.Series([0 for x in range(len(df_criterias_safe_3.index))])"
   ]
  },
  {
   "cell_type": "code",
   "execution_count": 77,
   "metadata": {},
   "outputs": [],
   "source": [
    "df_Stadium = df_sportLeisure[df_sportLeisure.subcategory == \"Stadium and Gymnasium\"]\n",
    "df_Sports = df_sportLeisure[df_sportLeisure.subcategory == \"Sports and leisure\"]\n",
    "df_Leisure = df_sportLeisure[df_sportLeisure.subcategory == \"Leisure vacation\"]\n",
    "df_Bath = df_sportLeisure[df_sportLeisure.subcategory == \"Bath Hot Spring Place\"]\n",
    "df_Movie = df_sportLeisure[df_sportLeisure.subcategory == \"Movie theater\"]\n",
    "df_Massage = df_sportLeisure[df_sportLeisure.subcategory == \"Massage Beauty and Health Care Place\"]\n",
    "df_Cultures = df_sportLeisure[df_sportLeisure.subcategory == \"Other Scientific and Educational Cultures\"]\n",
    "df_Entertainment = df_sportLeisure[df_sportLeisure.subcategory == \"Entertainment place\"]"
   ]
  },
  {
   "cell_type": "code",
   "execution_count": 78,
   "metadata": {},
   "outputs": [
    {
     "name": "stdout",
     "output_type": "stream",
     "text": [
      "358 / 358\n"
     ]
    }
   ],
   "source": [
    "nbStadium = []\n",
    "nbSports = []\n",
    "nbLeisure = []\n",
    "nbBath = []\n",
    "nbMovie = []\n",
    "nbMassage = []\n",
    "nbCultures = []\n",
    "nbEntertainment = []\n",
    "global i\n",
    "i = 0\n",
    "\n",
    "for j, poi in df_criterias_safe_3.iterrows():\n",
    "    \n",
    "    gdf_f = df_Stadium[df_Stadium.geometry.within(poi.geometry.buffer(400))]\n",
    "    nbStadium.append(len(gdf_f))\n",
    "    \n",
    "    gdf_f = df_Sports[df_Sports.geometry.within(poi.geometry.buffer(400))]\n",
    "    nbSports.append(len(gdf_f))\n",
    "    \n",
    "    gdf_f = df_Leisure[df_Leisure.geometry.within(poi.geometry.buffer(400))]\n",
    "    nbLeisure.append(len(gdf_f))\n",
    "    \n",
    "    gdf_f = df_Bath[df_Bath.geometry.within(poi.geometry.buffer(400))]\n",
    "    nbBath.append(len(gdf_f))\n",
    "    \n",
    "    gdf_f = df_Movie[df_Movie.geometry.within(poi.geometry.buffer(400))]\n",
    "    nbMovie.append(len(gdf_f))\n",
    "    \n",
    "    gdf_f = df_Massage[df_Massage.geometry.within(poi.geometry.buffer(400))]\n",
    "    nbMassage.append(len(gdf_f))\n",
    "    \n",
    "    gdf_f = df_Cultures[df_Cultures.geometry.within(poi.geometry.buffer(400))]\n",
    "    nbCultures.append(len(gdf_f))\n",
    "    \n",
    "    gdf_f = df_Entertainment[df_Entertainment.geometry.within(poi.geometry.buffer(400))]\n",
    "    nbEntertainment.append(len(gdf_f))\n",
    "    \n",
    "    i += 1\n",
    "    clear_output(wait = True)\n",
    "    print(i, \"/\", len(df_criterias_safe_2))\n",
    "    \n",
    "df_criterias_safe_3[\"Stadium and Gymnasium\"] = nbStadium\n",
    "df_criterias_safe_3[\"Sports and leisure\"] = nbSports\n",
    "df_criterias_safe_3[\"Leisure vacation\"] = nbLeisure\n",
    "df_criterias_safe_3[\"Bath Hot Spring Place\"] = nbBath\n",
    "df_criterias_safe_3[\"Movie theater\"] = nbMovie\n",
    "df_criterias_safe_3[\"Massage Beauty and Health Care Place\"] = nbMassage\n",
    "df_criterias_safe_3[\"Other Scientific and Educational Cultures\"] = nbCultures\n",
    "df_criterias_safe_3[\"Entertainment place\"] = nbEntertainment"
   ]
  },
  {
   "cell_type": "code",
   "execution_count": 109,
   "metadata": {},
   "outputs": [],
   "source": [
    "df_criterias_safe_3.to_pickle('C:/Users/jeane/Documents/Travail/UTSEUS/Urban Data Hackathon/pickles/meters/communities-meters.pk')\n",
    "df_criterias_safe_4 = pd.read_pickle('C:/Users/jeane/Documents/Travail/UTSEUS/Urban Data Hackathon/pickles/meters/communities-meters.pk')"
   ]
  },
  {
   "cell_type": "code",
   "execution_count": 112,
   "metadata": {},
   "outputs": [],
   "source": [
    "subcat_diff_transportation = []\n",
    "df_transportation.apply(lambda x : subcat_diff_transportation.append(x[\"subcategory\"]), axis = 1)\n",
    "subcat_diff_transportation = list(set(subcat_diff_transportation))\n",
    "\n",
    "for element in subcat_diff_transportation:\n",
    "    df_criterias_safe_4[element] = pd.Series([0 for x in range(len(df_criterias_safe_4.index))])"
   ]
  },
  {
   "cell_type": "code",
   "execution_count": 114,
   "metadata": {},
   "outputs": [],
   "source": [
    "df_Other  = df_transportation[df_transportation.subcategory == \"Other organ groups\"]\n",
    "df_Aviation  = df_transportation[df_transportation.subcategory == \"Aviation services and facilities\"]\n",
    "df_Urban  = df_transportation[df_transportation.subcategory == \"Urban public transport services and facilities\"]\n",
    "df_Cable  = df_transportation[df_transportation.subcategory == \"Cable car service and facilities\"]\n",
    "df_Toll  = df_transportation[df_transportation.subcategory == \"Toll Gate\"]\n",
    "df_Rail  = df_transportation[df_transportation.subcategory == \"Urban rail transit services and facilities\"]\n",
    "df_Social  = df_transportation[df_transportation.subcategory == \"Social groups/associations\"]\n",
    "df_Energy  = df_transportation[df_transportation.subcategory == \"Energy accounts for\"]\n",
    "df_Service  = df_transportation[df_transportation.subcategory == \"Service area\"]\n",
    "df_Highway  = df_transportation[df_transportation.subcategory == \"Intercity Highway Traffic Services and Facilities\"]\n",
    "df_Waterway  = df_transportation[df_transportation.subcategory == \"Waterway services and facilities\"]\n",
    "df_Foundation  = df_transportation[df_transportation.subcategory == \"Foundation\"]\n",
    "df_Railway  = df_transportation[df_transportation.subcategory == \"Railway services and facilities\"]"
   ]
  },
  {
   "cell_type": "code",
   "execution_count": 115,
   "metadata": {},
   "outputs": [
    {
     "name": "stdout",
     "output_type": "stream",
     "text": [
      "358 / 358\n"
     ]
    }
   ],
   "source": [
    "nbOther = []\n",
    "nbAviation = []\n",
    "nbUrban = []\n",
    "nbCable = []\n",
    "nbToll = []\n",
    "nbRail = []\n",
    "nbSocial = []\n",
    "nbEnergy = []\n",
    "nbService = []\n",
    "nbHighway = []\n",
    "nbWaterway = []\n",
    "nbFoundation = []\n",
    "nbRailway = []\n",
    "global i\n",
    "i = 0\n",
    "\n",
    "for j, poi in df_criterias_safe_4.iterrows():\n",
    "    \n",
    "    gdf_f = df_Other[df_Other.geometry.within(poi.geometry.buffer(400))]\n",
    "    nbOther.append(len(gdf_f))\n",
    "    \n",
    "    gdf_f = df_Aviation[df_Aviation.geometry.within(poi.geometry.buffer(400))]\n",
    "    nbAviation.append(len(gdf_f))\n",
    "    \n",
    "    gdf_f = df_Urban[df_Urban.geometry.within(poi.geometry.buffer(400))]\n",
    "    nbUrban.append(len(gdf_f))\n",
    "    \n",
    "    gdf_f = df_Cable[df_Cable.geometry.within(poi.geometry.buffer(400))]\n",
    "    nbCable.append(len(gdf_f))\n",
    "    \n",
    "    gdf_f = df_Toll[df_Toll.geometry.within(poi.geometry.buffer(400))]\n",
    "    nbToll.append(len(gdf_f))\n",
    "    \n",
    "    gdf_f = df_Rail[df_Rail.geometry.within(poi.geometry.buffer(400))]\n",
    "    nbRail.append(len(gdf_f))\n",
    "    \n",
    "    gdf_f = df_Social[df_Social.geometry.within(poi.geometry.buffer(400))]\n",
    "    nbSocial.append(len(gdf_f))\n",
    "    \n",
    "    gdf_f = df_Energy[df_Energy.geometry.within(poi.geometry.buffer(400))]\n",
    "    nbEnergy.append(len(gdf_f))\n",
    "    \n",
    "    gdf_f = df_Service[df_Service.geometry.within(poi.geometry.buffer(400))]\n",
    "    nbService.append(len(gdf_f))\n",
    "    \n",
    "    gdf_f = df_Highway[df_Highway.geometry.within(poi.geometry.buffer(400))]\n",
    "    nbHighway.append(len(gdf_f))\n",
    "    \n",
    "    gdf_f = df_Waterway[df_Waterway.geometry.within(poi.geometry.buffer(400))]\n",
    "    nbWaterway.append(len(gdf_f))\n",
    "    \n",
    "    gdf_f = df_Foundation[df_Foundation.geometry.within(poi.geometry.buffer(400))]\n",
    "    nbFoundation.append(len(gdf_f))\n",
    "    \n",
    "    gdf_f = df_Railway[df_Railway.geometry.within(poi.geometry.buffer(400))]\n",
    "    nbRailway.append(len(gdf_f))\n",
    "    \n",
    "    i += 1\n",
    "    clear_output(wait = True)\n",
    "    print(i, \"/\", len(df_criterias_safe_4))\n",
    "    \n",
    "df_criterias_safe_4[\"Other organ groups\"] = nbOther\n",
    "df_criterias_safe_4[\"Aviation services and facilities\"] = nbAviation\n",
    "df_criterias_safe_4[\"Urban public transport services and facilities\"] = nbUrban\n",
    "df_criterias_safe_4[\"Cable car service and facilities\"] = nbCable\n",
    "df_criterias_safe_4[\"Toll Gate\"] = nbToll\n",
    "df_criterias_safe_4[\"Urban rail transit services and facilities\"] = nbRail\n",
    "df_criterias_safe_4[\"Social groups/associations\"] = nbSocial\n",
    "df_criterias_safe_4[\"Energy accounts for\"] = nbService\n",
    "df_criterias_safe_4[\"Service area\"] = nbHighway\n",
    "df_criterias_safe_4[\"Intercity Highway Traffic Services and Facilities\"] = nbWaterway\n",
    "df_criterias_safe_4[\"Waterway services and facilities\"] = nbFoundation\n",
    "df_criterias_safe_4[\"Foundation\"] = nbRailway"
   ]
  },
  {
   "cell_type": "code",
   "execution_count": 116,
   "metadata": {},
   "outputs": [],
   "source": [
    "df_criterias_safe_4.to_pickle('C:/Users/jeane/Documents/Travail/UTSEUS/Urban Data Hackathon/pickles/meters/communities-meters.pk')"
   ]
  },
  {
   "cell_type": "code",
   "execution_count": 2,
   "metadata": {},
   "outputs": [],
   "source": [
    "df_criterias_safe_5 = pd.read_pickle('C:/Users/jeane/Documents/Travail/UTSEUS/Urban Data Hackathon/pickles/meters/communities-meters.pk')"
   ]
  },
  {
   "cell_type": "code",
   "execution_count": 118,
   "metadata": {},
   "outputs": [],
   "source": [
    "df_criterias_safe_5.to_csv('C:/Users/jeane/Documents/Travail/UTSEUS/Urban Data Hackathon/pickles/meters/communities-meters.csv')"
   ]
  },
  {
   "cell_type": "code",
   "execution_count": 4,
   "metadata": {},
   "outputs": [],
   "source": [
    "df_subway = pd.read_pickle('C:/Users/jeane/Documents/Travail/UTSEUS/Urban Data Hackathon/pickles/meters/subway_meters.pk')\n",
    "df_subway = gpd.GeoDataFrame(df_subway, geometry = [Point(float(x),float(y)) for x,y in zip(df_subway.transformed_longitude, df_subway.transformed_latitude)])"
   ]
  },
  {
   "cell_type": "code",
   "execution_count": 4,
   "metadata": {},
   "outputs": [
    {
     "name": "stdout",
     "output_type": "stream",
     "text": [
      "358 / 358\n"
     ]
    }
   ],
   "source": [
    "df_criterias_safe_5[\"subway\"] = pd.Series([0 for x in range(len(df_criterias_safe_5.index))])\n",
    "nbSubway = []\n",
    "global i\n",
    "i = 0\n",
    "\n",
    "for j, poi in df_criterias_safe_5.iterrows():\n",
    "    \n",
    "    gdf_f = df_subway[df_subway.geometry.within(poi.geometry.buffer(400))]\n",
    "    nbSubway.append(len(gdf_f))\n",
    "    \n",
    "    i += 1\n",
    "    clear_output(wait = True)\n",
    "    print(i, \"/\", len(df_criterias_safe_5))\n",
    "    \n",
    "df_criterias_safe_5[\"subway\"] = nbSubway"
   ]
  },
  {
   "cell_type": "code",
   "execution_count": 6,
   "metadata": {},
   "outputs": [],
   "source": [
    "df_criterias_safe_5.to_pickle('C:/Users/jeane/Documents/Travail/UTSEUS/Urban Data Hackathon/pickles/meters/communities-meters.pk')"
   ]
  },
  {
   "cell_type": "code",
   "execution_count": 2,
   "metadata": {},
   "outputs": [],
   "source": [
    "df_criterias_safe_6 = pd.read_pickle('C:/Users/jeane/Documents/Travail/UTSEUS/Urban Data Hackathon/pickles/meters/communities-meters.pk')"
   ]
  },
  {
   "cell_type": "code",
   "execution_count": null,
   "metadata": {},
   "outputs": [
    {
     "name": "stdout",
     "output_type": "stream",
     "text": [
      "100400 / 102746\n"
     ]
    }
   ],
   "source": [
    "from shapely.ops import nearest_points\n",
    "from math import *\n",
    "\n",
    "df_criterias_safe_6[\"nearerSubway\"] = pd.Series([0 for x in range(len(df_criterias_safe_6.index))])\n",
    "nearerSubDist = []\n",
    "global i\n",
    "i = 0\n",
    "\n",
    "for j, hp in df_criterias_safe_6.iterrows():\n",
    "    nearerSubway = 10000000\n",
    "    for j, sub in df_subway.iterrows():\n",
    "        dist = sqrt((hp.transformed_longitude - sub.transformed_longitude)**2 + (hp.transformed_latitude - sub.transformed_latitude)**2)\n",
    "        if nearerSubway > dist:\n",
    "           nearerSubway = dist\n",
    "        \n",
    "        i += 1\n",
    "        clear_output(wait = True)\n",
    "        print(i, \"/\", len(df_criterias_safe_6)*len(df_subway))\n",
    "    nearerSubDist.append(nearerSubway)\n",
    "\n",
    "df_criterias_safe_6[\"nearerSubway\"] = nearerSubDist"
   ]
  },
  {
   "cell_type": "code",
   "execution_count": null,
   "metadata": {},
   "outputs": [],
   "source": [
    "df_criterias_safe_6.to_pickle('C:/Users/jeane/Documents/Travail/UTSEUS/Urban Data Hackathon/pickles/meters/communities-meters.pk')"
   ]
  },
  {
   "cell_type": "code",
   "execution_count": null,
   "metadata": {},
   "outputs": [],
   "source": [
    "df_criterias_safe_7 = pd.read_pickle('C:/Users/jeane/Documents/Travail/UTSEUS/Urban Data Hackathon/pickles/meters/communities-meters.pk')"
   ]
  }
 ],
 "metadata": {
  "kernelspec": {
   "display_name": "Python 3",
   "language": "python",
   "name": "python3"
  },
  "language_info": {
   "codemirror_mode": {
    "name": "ipython",
    "version": 3
   },
   "file_extension": ".py",
   "mimetype": "text/x-python",
   "name": "python",
   "nbconvert_exporter": "python",
   "pygments_lexer": "ipython3",
   "version": "3.7.3"
  }
 },
 "nbformat": 4,
 "nbformat_minor": 4
}
