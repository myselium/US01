{
 "cells": [
  {
   "cell_type": "code",
   "execution_count": 36,
   "metadata": {},
   "outputs": [],
   "source": [
    "import pandas as pd"
   ]
  },
  {
   "cell_type": "code",
   "execution_count": 37,
   "metadata": {},
   "outputs": [],
   "source": [
    "df = pd.read_pickle(\"C:/Users/jeane/Desktop/USXX/data-science-course/data.pkl\")"
   ]
  },
  {
   "cell_type": "code",
   "execution_count": 38,
   "metadata": {},
   "outputs": [],
   "source": [
    "df_modeling = df[['Country (according to CN Gov):',\n",
    "       'HF Index of Economic Freedom (Scale: 1-100)',\n",
    "       'Bertelsmann Transformation index (BTI)',\n",
    "       'WB UNESCO R&D Expenditure % of GDP',\n",
    "       'WB UNESCO Researchers p. mn inhabitants',\n",
    "       'TI Corruption Perception Index',\n",
    "        'BRI GDP p.c.']]"
   ]
  },
  {
   "cell_type": "code",
   "execution_count": 39,
   "metadata": {},
   "outputs": [
    {
     "data": {
      "text/html": [
       "<div>\n",
       "<style scoped>\n",
       "    .dataframe tbody tr th:only-of-type {\n",
       "        vertical-align: middle;\n",
       "    }\n",
       "\n",
       "    .dataframe tbody tr th {\n",
       "        vertical-align: top;\n",
       "    }\n",
       "\n",
       "    .dataframe thead th {\n",
       "        text-align: right;\n",
       "    }\n",
       "</style>\n",
       "<table border=\"1\" class=\"dataframe\">\n",
       "  <thead>\n",
       "    <tr style=\"text-align: right;\">\n",
       "      <th></th>\n",
       "      <th>Country (according to CN Gov):</th>\n",
       "      <th>HF Index of Economic Freedom (Scale: 1-100)</th>\n",
       "      <th>Bertelsmann Transformation index (BTI)</th>\n",
       "      <th>WB UNESCO R&amp;D Expenditure % of GDP</th>\n",
       "      <th>WB UNESCO Researchers p. mn inhabitants</th>\n",
       "      <th>TI Corruption Perception Index</th>\n",
       "      <th>BRI GDP p.c.</th>\n",
       "    </tr>\n",
       "  </thead>\n",
       "  <tbody>\n",
       "    <tr>\n",
       "      <th>2</th>\n",
       "      <td>Albania</td>\n",
       "      <td>66.5</td>\n",
       "      <td>6.828571</td>\n",
       "      <td>0.15412</td>\n",
       "      <td>156.10110</td>\n",
       "      <td>36.0</td>\n",
       "      <td>3965.01680558488</td>\n",
       "    </tr>\n",
       "    <tr>\n",
       "      <th>5</th>\n",
       "      <td>Bahrain</td>\n",
       "      <td>66.4</td>\n",
       "      <td>4.616667</td>\n",
       "      <td>0.10116</td>\n",
       "      <td>368.90235</td>\n",
       "      <td>36.0</td>\n",
       "      <td>23395.7476902684</td>\n",
       "    </tr>\n",
       "    <tr>\n",
       "      <th>9</th>\n",
       "      <td>Bosnia and Herzegovina</td>\n",
       "      <td>61.9</td>\n",
       "      <td>6.282143</td>\n",
       "      <td>0.19951</td>\n",
       "      <td>463.89852</td>\n",
       "      <td>38.0</td>\n",
       "      <td>4197.80730449044</td>\n",
       "    </tr>\n",
       "    <tr>\n",
       "      <th>11</th>\n",
       "      <td>Bulgaria</td>\n",
       "      <td>69.0</td>\n",
       "      <td>7.800000</td>\n",
       "      <td>0.77079</td>\n",
       "      <td>2130.54538</td>\n",
       "      <td>42.0</td>\n",
       "      <td>6819.86910816324</td>\n",
       "    </tr>\n",
       "    <tr>\n",
       "      <th>12</th>\n",
       "      <td>Cambodia</td>\n",
       "      <td>58.7</td>\n",
       "      <td>4.000000</td>\n",
       "      <td>0.11823</td>\n",
       "      <td>30.37447</td>\n",
       "      <td>21.0</td>\n",
       "      <td>1158.69</td>\n",
       "    </tr>\n",
       "  </tbody>\n",
       "</table>\n",
       "</div>"
      ],
      "text/plain": [
       "   Country (according to CN Gov):  \\\n",
       "2                         Albania   \n",
       "5                         Bahrain   \n",
       "9          Bosnia and Herzegovina   \n",
       "11                       Bulgaria   \n",
       "12                       Cambodia   \n",
       "\n",
       "    HF Index of Economic Freedom (Scale: 1-100)  \\\n",
       "2                                          66.5   \n",
       "5                                          66.4   \n",
       "9                                          61.9   \n",
       "11                                         69.0   \n",
       "12                                         58.7   \n",
       "\n",
       "    Bertelsmann Transformation index (BTI)  \\\n",
       "2                                 6.828571   \n",
       "5                                 4.616667   \n",
       "9                                 6.282143   \n",
       "11                                7.800000   \n",
       "12                                4.000000   \n",
       "\n",
       "    WB UNESCO R&D Expenditure % of GDP  \\\n",
       "2                              0.15412   \n",
       "5                              0.10116   \n",
       "9                              0.19951   \n",
       "11                             0.77079   \n",
       "12                             0.11823   \n",
       "\n",
       "    WB UNESCO Researchers p. mn inhabitants  TI Corruption Perception Index  \\\n",
       "2                                 156.10110                            36.0   \n",
       "5                                 368.90235                            36.0   \n",
       "9                                 463.89852                            38.0   \n",
       "11                               2130.54538                            42.0   \n",
       "12                                 30.37447                            21.0   \n",
       "\n",
       "        BRI GDP p.c.  \n",
       "2   3965.01680558488  \n",
       "5   23395.7476902684  \n",
       "9   4197.80730449044  \n",
       "11  6819.86910816324  \n",
       "12           1158.69  "
      ]
     },
     "execution_count": 39,
     "metadata": {},
     "output_type": "execute_result"
    }
   ],
   "source": [
    "df_modeling = df_modeling.dropna()\n",
    "df_modeling.head()"
   ]
  },
  {
   "cell_type": "code",
   "execution_count": 40,
   "metadata": {},
   "outputs": [],
   "source": [
    "df_modeling['BRI GDP p.c.'] = df_modeling['BRI GDP p.c.'].apply(float)"
   ]
  },
  {
   "cell_type": "code",
   "execution_count": 41,
   "metadata": {},
   "outputs": [
    {
     "data": {
      "text/plain": [
       "count       43.000000\n",
       "mean     11503.154977\n",
       "std      14498.323548\n",
       "min        732.298716\n",
       "25%       3122.931159\n",
       "50%       6415.034084\n",
       "75%      13918.581249\n",
       "max      74667.197071\n",
       "Name: BRI GDP p.c., dtype: float64"
      ]
     },
     "execution_count": 41,
     "metadata": {},
     "output_type": "execute_result"
    }
   ],
   "source": [
    "%matplotlib inline\n",
    "df_modeling['BRI GDP p.c.'].describe()"
   ]
  },
  {
   "cell_type": "code",
   "execution_count": 42,
   "metadata": {},
   "outputs": [
    {
     "data": {
      "text/plain": [
       "<matplotlib.axes._subplots.AxesSubplot at 0x1845bec5978>"
      ]
     },
     "execution_count": 42,
     "metadata": {},
     "output_type": "execute_result"
    },
    {
     "data": {
      "image/png": "[encoded data removed]",
      "text/plain": [
       "<Figure size 432x288 with 1 Axes>"
      ]
     },
     "metadata": {
      "needs_background": "light"
     },
     "output_type": "display_data"
    }
   ],
   "source": [
    "df_modeling['BRI GDP p.c.'].sort_values().plot(use_index=False)"
   ]
  },
  {
   "cell_type": "code",
   "execution_count": 43,
   "metadata": {},
   "outputs": [
    {
     "data": {
      "text/html": [
       "<div>\n",
       "<style scoped>\n",
       "    .dataframe tbody tr th:only-of-type {\n",
       "        vertical-align: middle;\n",
       "    }\n",
       "\n",
       "    .dataframe tbody tr th {\n",
       "        vertical-align: top;\n",
       "    }\n",
       "\n",
       "    .dataframe thead th {\n",
       "        text-align: right;\n",
       "    }\n",
       "</style>\n",
       "<table border=\"1\" class=\"dataframe\">\n",
       "  <thead>\n",
       "    <tr style=\"text-align: right;\">\n",
       "      <th></th>\n",
       "      <th>Country (according to CN Gov):</th>\n",
       "      <th>HF Index of Economic Freedom (Scale: 1-100)</th>\n",
       "      <th>Bertelsmann Transformation index (BTI)</th>\n",
       "      <th>WB UNESCO R&amp;D Expenditure % of GDP</th>\n",
       "      <th>WB UNESCO Researchers p. mn inhabitants</th>\n",
       "      <th>TI Corruption Perception Index</th>\n",
       "      <th>BRI GDP p.c.</th>\n",
       "      <th>GDP</th>\n",
       "    </tr>\n",
       "  </thead>\n",
       "  <tbody>\n",
       "    <tr>\n",
       "      <th>2</th>\n",
       "      <td>Albania</td>\n",
       "      <td>66.5</td>\n",
       "      <td>6.828571</td>\n",
       "      <td>0.15412</td>\n",
       "      <td>156.10110</td>\n",
       "      <td>36.0</td>\n",
       "      <td>3965.016806</td>\n",
       "      <td>low</td>\n",
       "    </tr>\n",
       "    <tr>\n",
       "      <th>5</th>\n",
       "      <td>Bahrain</td>\n",
       "      <td>66.4</td>\n",
       "      <td>4.616667</td>\n",
       "      <td>0.10116</td>\n",
       "      <td>368.90235</td>\n",
       "      <td>36.0</td>\n",
       "      <td>23395.747690</td>\n",
       "      <td>high</td>\n",
       "    </tr>\n",
       "    <tr>\n",
       "      <th>9</th>\n",
       "      <td>Bosnia and Herzegovina</td>\n",
       "      <td>61.9</td>\n",
       "      <td>6.282143</td>\n",
       "      <td>0.19951</td>\n",
       "      <td>463.89852</td>\n",
       "      <td>38.0</td>\n",
       "      <td>4197.807304</td>\n",
       "      <td>low</td>\n",
       "    </tr>\n",
       "    <tr>\n",
       "      <th>11</th>\n",
       "      <td>Bulgaria</td>\n",
       "      <td>69.0</td>\n",
       "      <td>7.800000</td>\n",
       "      <td>0.77079</td>\n",
       "      <td>2130.54538</td>\n",
       "      <td>42.0</td>\n",
       "      <td>6819.869108</td>\n",
       "      <td>average</td>\n",
       "    </tr>\n",
       "    <tr>\n",
       "      <th>12</th>\n",
       "      <td>Cambodia</td>\n",
       "      <td>58.7</td>\n",
       "      <td>4.000000</td>\n",
       "      <td>0.11823</td>\n",
       "      <td>30.37447</td>\n",
       "      <td>21.0</td>\n",
       "      <td>1158.689904</td>\n",
       "      <td>low</td>\n",
       "    </tr>\n",
       "  </tbody>\n",
       "</table>\n",
       "</div>"
      ],
      "text/plain": [
       "   Country (according to CN Gov):  \\\n",
       "2                         Albania   \n",
       "5                         Bahrain   \n",
       "9          Bosnia and Herzegovina   \n",
       "11                       Bulgaria   \n",
       "12                       Cambodia   \n",
       "\n",
       "    HF Index of Economic Freedom (Scale: 1-100)  \\\n",
       "2                                          66.5   \n",
       "5                                          66.4   \n",
       "9                                          61.9   \n",
       "11                                         69.0   \n",
       "12                                         58.7   \n",
       "\n",
       "    Bertelsmann Transformation index (BTI)  \\\n",
       "2                                 6.828571   \n",
       "5                                 4.616667   \n",
       "9                                 6.282143   \n",
       "11                                7.800000   \n",
       "12                                4.000000   \n",
       "\n",
       "    WB UNESCO R&D Expenditure % of GDP  \\\n",
       "2                              0.15412   \n",
       "5                              0.10116   \n",
       "9                              0.19951   \n",
       "11                             0.77079   \n",
       "12                             0.11823   \n",
       "\n",
       "    WB UNESCO Researchers p. mn inhabitants  TI Corruption Perception Index  \\\n",
       "2                                 156.10110                            36.0   \n",
       "5                                 368.90235                            36.0   \n",
       "9                                 463.89852                            38.0   \n",
       "11                               2130.54538                            42.0   \n",
       "12                                 30.37447                            21.0   \n",
       "\n",
       "    BRI GDP p.c.      GDP  \n",
       "2    3965.016806      low  \n",
       "5   23395.747690     high  \n",
       "9    4197.807304      low  \n",
       "11   6819.869108  average  \n",
       "12   1158.689904      low  "
      ]
     },
     "execution_count": 43,
     "metadata": {},
     "output_type": "execute_result"
    }
   ],
   "source": [
    "df_modeling['GDP'] = pd.cut(df_modeling['BRI GDP p.c.'],\n",
    "                            bins=[0,5000,20000,max(df_modeling['BRI GDP p.c.'])],\n",
    "                            labels=['low','average','high'])\n",
    "df_modeling.head()"
   ]
  },
  {
   "cell_type": "code",
   "execution_count": 44,
   "metadata": {},
   "outputs": [
    {
     "ename": "KeyError",
     "evalue": "\"['R&D_scaled', 'corruption_scaled', 'HF_scaled', 'BTI_scaled', 'researchers_scaled'] not in index\"",
     "output_type": "error",
     "traceback": [
      "\u001b[1;31m---------------------------------------------------------------------------\u001b[0m",
      "\u001b[1;31mKeyError\u001b[0m                                  Traceback (most recent call last)",
      "\u001b[1;32m<ipython-input-44-978fdf11b9c0>\u001b[0m in \u001b[0;36m<module>\u001b[1;34m\u001b[0m\n\u001b[0;32m      2\u001b[0m \u001b[0mscaler\u001b[0m \u001b[1;33m=\u001b[0m \u001b[0mStandardScaler\u001b[0m\u001b[1;33m(\u001b[0m\u001b[1;33m)\u001b[0m\u001b[1;33m\u001b[0m\u001b[1;33m\u001b[0m\u001b[0m\n\u001b[0;32m      3\u001b[0m \u001b[1;33m\u001b[0m\u001b[0m\n\u001b[1;32m----> 4\u001b[1;33m \u001b[0mdf_modeling\u001b[0m\u001b[1;33m[\u001b[0m\u001b[1;33m[\u001b[0m\u001b[1;34m'HF_scaled'\u001b[0m\u001b[1;33m,\u001b[0m\u001b[1;34m'BTI_scaled'\u001b[0m\u001b[1;33m,\u001b[0m\u001b[1;34m'R&D_scaled'\u001b[0m\u001b[1;33m,\u001b[0m\u001b[1;34m'researchers_scaled'\u001b[0m\u001b[1;33m,\u001b[0m\u001b[1;34m'corruption_scaled'\u001b[0m\u001b[1;33m,\u001b[0m\u001b[1;34m'GDP'\u001b[0m\u001b[1;33m]\u001b[0m\u001b[1;33m]\u001b[0m\u001b[1;33m\u001b[0m\u001b[1;33m\u001b[0m\u001b[0m\n\u001b[0m",
      "\u001b[1;32m~\\Anaconda3\\lib\\site-packages\\pandas\\core\\frame.py\u001b[0m in \u001b[0;36m__getitem__\u001b[1;34m(self, key)\u001b[0m\n\u001b[0;32m   2932\u001b[0m                 \u001b[0mkey\u001b[0m \u001b[1;33m=\u001b[0m \u001b[0mlist\u001b[0m\u001b[1;33m(\u001b[0m\u001b[0mkey\u001b[0m\u001b[1;33m)\u001b[0m\u001b[1;33m\u001b[0m\u001b[1;33m\u001b[0m\u001b[0m\n\u001b[0;32m   2933\u001b[0m             indexer = self.loc._convert_to_indexer(key, axis=1,\n\u001b[1;32m-> 2934\u001b[1;33m                                                    raise_missing=True)\n\u001b[0m\u001b[0;32m   2935\u001b[0m \u001b[1;33m\u001b[0m\u001b[0m\n\u001b[0;32m   2936\u001b[0m         \u001b[1;31m# take() does not accept boolean indexers\u001b[0m\u001b[1;33m\u001b[0m\u001b[1;33m\u001b[0m\u001b[1;33m\u001b[0m\u001b[0m\n",
      "\u001b[1;32m~\\Anaconda3\\lib\\site-packages\\pandas\\core\\indexing.py\u001b[0m in \u001b[0;36m_convert_to_indexer\u001b[1;34m(self, obj, axis, is_setter, raise_missing)\u001b[0m\n\u001b[0;32m   1352\u001b[0m                 kwargs = {'raise_missing': True if is_setter else\n\u001b[0;32m   1353\u001b[0m                           raise_missing}\n\u001b[1;32m-> 1354\u001b[1;33m                 \u001b[1;32mreturn\u001b[0m \u001b[0mself\u001b[0m\u001b[1;33m.\u001b[0m\u001b[0m_get_listlike_indexer\u001b[0m\u001b[1;33m(\u001b[0m\u001b[0mobj\u001b[0m\u001b[1;33m,\u001b[0m \u001b[0maxis\u001b[0m\u001b[1;33m,\u001b[0m \u001b[1;33m**\u001b[0m\u001b[0mkwargs\u001b[0m\u001b[1;33m)\u001b[0m\u001b[1;33m[\u001b[0m\u001b[1;36m1\u001b[0m\u001b[1;33m]\u001b[0m\u001b[1;33m\u001b[0m\u001b[1;33m\u001b[0m\u001b[0m\n\u001b[0m\u001b[0;32m   1355\u001b[0m         \u001b[1;32melse\u001b[0m\u001b[1;33m:\u001b[0m\u001b[1;33m\u001b[0m\u001b[1;33m\u001b[0m\u001b[0m\n\u001b[0;32m   1356\u001b[0m             \u001b[1;32mtry\u001b[0m\u001b[1;33m:\u001b[0m\u001b[1;33m\u001b[0m\u001b[1;33m\u001b[0m\u001b[0m\n",
      "\u001b[1;32m~\\Anaconda3\\lib\\site-packages\\pandas\\core\\indexing.py\u001b[0m in \u001b[0;36m_get_listlike_indexer\u001b[1;34m(self, key, axis, raise_missing)\u001b[0m\n\u001b[0;32m   1159\u001b[0m         self._validate_read_indexer(keyarr, indexer,\n\u001b[0;32m   1160\u001b[0m                                     \u001b[0mo\u001b[0m\u001b[1;33m.\u001b[0m\u001b[0m_get_axis_number\u001b[0m\u001b[1;33m(\u001b[0m\u001b[0maxis\u001b[0m\u001b[1;33m)\u001b[0m\u001b[1;33m,\u001b[0m\u001b[1;33m\u001b[0m\u001b[1;33m\u001b[0m\u001b[0m\n\u001b[1;32m-> 1161\u001b[1;33m                                     raise_missing=raise_missing)\n\u001b[0m\u001b[0;32m   1162\u001b[0m         \u001b[1;32mreturn\u001b[0m \u001b[0mkeyarr\u001b[0m\u001b[1;33m,\u001b[0m \u001b[0mindexer\u001b[0m\u001b[1;33m\u001b[0m\u001b[1;33m\u001b[0m\u001b[0m\n\u001b[0;32m   1163\u001b[0m \u001b[1;33m\u001b[0m\u001b[0m\n",
      "\u001b[1;32m~\\Anaconda3\\lib\\site-packages\\pandas\\core\\indexing.py\u001b[0m in \u001b[0;36m_validate_read_indexer\u001b[1;34m(self, key, indexer, axis, raise_missing)\u001b[0m\n\u001b[0;32m   1250\u001b[0m             \u001b[1;32mif\u001b[0m \u001b[1;32mnot\u001b[0m\u001b[1;33m(\u001b[0m\u001b[0mself\u001b[0m\u001b[1;33m.\u001b[0m\u001b[0mname\u001b[0m \u001b[1;33m==\u001b[0m \u001b[1;34m'loc'\u001b[0m \u001b[1;32mand\u001b[0m \u001b[1;32mnot\u001b[0m \u001b[0mraise_missing\u001b[0m\u001b[1;33m)\u001b[0m\u001b[1;33m:\u001b[0m\u001b[1;33m\u001b[0m\u001b[1;33m\u001b[0m\u001b[0m\n\u001b[0;32m   1251\u001b[0m                 \u001b[0mnot_found\u001b[0m \u001b[1;33m=\u001b[0m \u001b[0mlist\u001b[0m\u001b[1;33m(\u001b[0m\u001b[0mset\u001b[0m\u001b[1;33m(\u001b[0m\u001b[0mkey\u001b[0m\u001b[1;33m)\u001b[0m \u001b[1;33m-\u001b[0m \u001b[0mset\u001b[0m\u001b[1;33m(\u001b[0m\u001b[0max\u001b[0m\u001b[1;33m)\u001b[0m\u001b[1;33m)\u001b[0m\u001b[1;33m\u001b[0m\u001b[1;33m\u001b[0m\u001b[0m\n\u001b[1;32m-> 1252\u001b[1;33m                 \u001b[1;32mraise\u001b[0m \u001b[0mKeyError\u001b[0m\u001b[1;33m(\u001b[0m\u001b[1;34m\"{} not in index\"\u001b[0m\u001b[1;33m.\u001b[0m\u001b[0mformat\u001b[0m\u001b[1;33m(\u001b[0m\u001b[0mnot_found\u001b[0m\u001b[1;33m)\u001b[0m\u001b[1;33m)\u001b[0m\u001b[1;33m\u001b[0m\u001b[1;33m\u001b[0m\u001b[0m\n\u001b[0m\u001b[0;32m   1253\u001b[0m \u001b[1;33m\u001b[0m\u001b[0m\n\u001b[0;32m   1254\u001b[0m             \u001b[1;31m# we skip the warning on Categorical/Interval\u001b[0m\u001b[1;33m\u001b[0m\u001b[1;33m\u001b[0m\u001b[1;33m\u001b[0m\u001b[0m\n",
      "\u001b[1;31mKeyError\u001b[0m: \"['R&D_scaled', 'corruption_scaled', 'HF_scaled', 'BTI_scaled', 'researchers_scaled'] not in index\""
     ]
    }
   ],
   "source": [
    "from sklearn.preprocessing import StandardScaler\n",
    "scaler = StandardScaler()\n",
    "\n",
    "df_modeling[['HF_scaled','BTI_scaled','R&D_scaled','researchers_scaled','corruption_scaled','GDP']]"
   ]
  },
  {
   "cell_type": "code",
   "execution_count": null,
   "metadata": {},
   "outputs": [],
   "source": []
  }
 ],
 "metadata": {
  "kernelspec": {
   "display_name": "Python 3",
   "language": "python",
   "name": "python3"
  },
  "language_info": {
   "codemirror_mode": {
    "name": "ipython",
    "version": 3
   },
   "file_extension": ".py",
   "mimetype": "text/x-python",
   "name": "python",
   "nbconvert_exporter": "python",
   "pygments_lexer": "ipython3",
   "version": "3.7.3"
  }
 },
 "nbformat": 4,
 "nbformat_minor": 4
}
